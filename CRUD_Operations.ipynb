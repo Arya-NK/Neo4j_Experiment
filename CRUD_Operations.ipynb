{
 "cells": [
  {
   "cell_type": "markdown",
   "metadata": {},
   "source": [
    "# Connect to Neo4j \n",
    "using Neo4j Bolt Driver"
   ]
  },
  {
   "cell_type": "code",
   "execution_count": 6,
   "metadata": {},
   "outputs": [
    {
     "name": "stdout",
     "output_type": "stream",
     "text": [
      "Requirement already satisfied: neo4j-driver in /Users/arya.nalinkumar/anaconda3/lib/python3.6/site-packages (1.7.4)\n",
      "Requirement already satisfied: neotime~=1.7.1 in /Users/arya.nalinkumar/anaconda3/lib/python3.6/site-packages (from neo4j-driver) (1.7.4)\n",
      "Requirement already satisfied: neobolt~=1.7.13 in /Users/arya.nalinkumar/anaconda3/lib/python3.6/site-packages (from neo4j-driver) (1.7.13)\n",
      "Requirement already satisfied: pytz in /Users/arya.nalinkumar/anaconda3/lib/python3.6/site-packages (from neotime~=1.7.1->neo4j-driver) (2018.4)\n",
      "Requirement already satisfied: six in /Users/arya.nalinkumar/anaconda3/lib/python3.6/site-packages (from neotime~=1.7.1->neo4j-driver) (1.11.0)\n",
      "\u001b[33mYou are using pip version 19.0.3, however version 19.1.1 is available.\n",
      "You should consider upgrading via the 'pip install --upgrade pip' command.\u001b[0m\n"
     ]
    }
   ],
   "source": [
    "#first install neo4j driver - \n",
    "!pip install neo4j-driver"
   ]
  },
  {
   "cell_type": "code",
   "execution_count": 7,
   "metadata": {},
   "outputs": [],
   "source": [
    "from neo4j import GraphDatabase"
   ]
  },
  {
   "cell_type": "code",
   "execution_count": 9,
   "metadata": {},
   "outputs": [],
   "source": [
    "# instantiate driver object\n",
    "driver = GraphDatabase.driver(\"bolt://localhost:7687\", auth=(\"neo4j\", \"neo4j\"))"
   ]
  },
  {
   "cell_type": "code",
   "execution_count": 10,
   "metadata": {},
   "outputs": [
    {
     "name": "stdout",
     "output_type": "stream",
     "text": [
      "Number of nodes in the database: 4044069\n"
     ]
    }
   ],
   "source": [
    "# Checking number of nodes in the database\n",
    "with driver.session() as session:\n",
    "    result = session.run(\"MATCH (a) RETURN COUNT(a) AS num\")\n",
    "    \n",
    "    for record in result:\n",
    "        print(\"Number of nodes in the database: %i\" % record['num'])"
   ]
  },
  {
   "cell_type": "code",
   "execution_count": null,
   "metadata": {},
   "outputs": [],
   "source": []
  }
 ],
 "metadata": {
  "kernelspec": {
   "display_name": "Python 3",
   "language": "python",
   "name": "python3"
  },
  "language_info": {
   "codemirror_mode": {
    "name": "ipython",
    "version": 3
   },
   "file_extension": ".py",
   "mimetype": "text/x-python",
   "name": "python",
   "nbconvert_exporter": "python",
   "pygments_lexer": "ipython3",
   "version": "3.6.5"
  }
 },
 "nbformat": 4,
 "nbformat_minor": 2
}
