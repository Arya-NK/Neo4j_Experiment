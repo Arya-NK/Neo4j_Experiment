{
 "cells": [
  {
   "cell_type": "markdown",
   "metadata": {},
   "source": [
    "# Connect to Neo4j \n",
    "using Neo4j Bolt Driver"
   ]
  },
  {
   "cell_type": "code",
   "execution_count": 62,
   "metadata": {},
   "outputs": [
    {
     "name": "stdout",
     "output_type": "stream",
     "text": [
      "Requirement already satisfied: neo4j-driver in /Users/arya.nalinkumar/anaconda3/lib/python3.6/site-packages (1.7.4)\n",
      "Requirement already satisfied: neotime~=1.7.1 in /Users/arya.nalinkumar/anaconda3/lib/python3.6/site-packages (from neo4j-driver) (1.7.4)\n",
      "Requirement already satisfied: neobolt~=1.7.13 in /Users/arya.nalinkumar/anaconda3/lib/python3.6/site-packages (from neo4j-driver) (1.7.13)\n",
      "Requirement already satisfied: pytz in /Users/arya.nalinkumar/anaconda3/lib/python3.6/site-packages (from neotime~=1.7.1->neo4j-driver) (2018.4)\n",
      "Requirement already satisfied: six in /Users/arya.nalinkumar/anaconda3/lib/python3.6/site-packages (from neotime~=1.7.1->neo4j-driver) (1.11.0)\n"
     ]
    }
   ],
   "source": [
    "#first install neo4j driver\n",
    "!pip install neo4j-driver"
   ]
  },
  {
   "cell_type": "code",
   "execution_count": 63,
   "metadata": {},
   "outputs": [],
   "source": [
    "from neo4j import GraphDatabase"
   ]
  },
  {
   "cell_type": "code",
   "execution_count": 64,
   "metadata": {},
   "outputs": [],
   "source": [
    "# instantiate driver object\n",
    "driver = GraphDatabase.driver(\"bolt://localhost:7687\", auth=(\"neo4j\", \"neo4j\"))"
   ]
  },
  {
   "cell_type": "code",
   "execution_count": 65,
   "metadata": {},
   "outputs": [
    {
     "name": "stdout",
     "output_type": "stream",
     "text": [
      "Number of nodes in the database: 4044069\n"
     ]
    }
   ],
   "source": [
    "# Checking number of nodes in the database\n",
    "with driver.session() as session:\n",
    "    result = session.run(\"MATCH (a) RETURN COUNT(a) AS num\")\n",
    "    \n",
    "    for record in result:\n",
    "        print(\"Number of nodes in the database: %i\" % record['num'])"
   ]
  },
  {
   "cell_type": "markdown",
   "metadata": {},
   "source": [
    "## CREATE\n",
    "\n",
    "### Create Characters\n",
    "\n"
   ]
  },
  {
   "cell_type": "code",
   "execution_count": 66,
   "metadata": {},
   "outputs": [],
   "source": [
    "# 1. Creating constraint on character node to property: name\n",
    "with driver.session() as session:\n",
    "    session.run(\"CREATE CONSTRAINT ON (c:Character) ASSERT c.name IS UNIQUE;\")"
   ]
  },
  {
   "cell_type": "code",
   "execution_count": 67,
   "metadata": {},
   "outputs": [],
   "source": [
    "# Query to create Character node\n",
    "# Parameterised cypher query\n",
    "create_character_query = '''\n",
    "MERGE (c:Character {name: $name})\n",
    "'''"
   ]
  },
  {
   "cell_type": "code",
   "execution_count": 46,
   "metadata": {},
   "outputs": [],
   "source": [
    "with driver.session() as session:\n",
    "    with open(\"data/characters.txt\") as f:\n",
    "        for line in f:\n",
    "            # strip whitespace\n",
    "            text = line.strip()\n",
    "            # execute create_character_query, passing name parameter\n",
    "            session.run(create_character_query, parameters={'name':text})\n",
    "        "
   ]
  },
  {
   "cell_type": "markdown",
   "metadata": {},
   "source": [
    "### Create Line nodes\n",
    "\n",
    "> For each line in the text, CREATE a corresponding record in the database. Each record will include the name of the character speaking, the (absolute) line number of the phrase and the phrase itself, trimmed of any leading or following spaces"
   ]
  },
  {
   "cell_type": "code",
   "execution_count": 68,
   "metadata": {},
   "outputs": [],
   "source": [
    "# Query to add a line to the database\n",
    "create_line_query = '''\n",
    "CREATE (l:Line {text: $line_text, number: $line_num})\n",
    "WITH l\n",
    "MATCH (c:Character) WHERE c.name = $current_character\n",
    "CREATE (l)<-[:SPEAKS]-(c)\n",
    "'''\n"
   ]
  },
  {
   "cell_type": "code",
   "execution_count": 49,
   "metadata": {},
   "outputs": [
    {
     "data": {
      "text/plain": [
       "{'BOTTOM',\n",
       " 'COBWEB',\n",
       " 'DEMETRIUS',\n",
       " 'EGEUS',\n",
       " 'FLUTE',\n",
       " 'HELENA',\n",
       " 'HERMIA',\n",
       " 'HIPPOLYTA',\n",
       " 'LYSANDER',\n",
       " 'MOTH',\n",
       " 'MUSTARDSEED',\n",
       " 'OBERON',\n",
       " 'PEASEBLOSSOM',\n",
       " 'PHILOSTRATE',\n",
       " 'PUCK',\n",
       " 'QUINCE',\n",
       " 'SNOUT',\n",
       " 'SNUG',\n",
       " 'STARVELING',\n",
       " 'THESEUS',\n",
       " 'TITANIA'}"
      ]
     },
     "execution_count": 49,
     "metadata": {},
     "output_type": "execute_result"
    }
   ],
   "source": [
    "# create an empty set\n",
    "characters = set()\n",
    "\n",
    "# fetch all Character names from the database\n",
    "get_characters_query = '''\n",
    "MATCH (c:Character)\n",
    "RETURN c.name AS name\n",
    "'''\n",
    "\n",
    "# for each Character name, add it to the characters set\n",
    "with driver.session() as session:\n",
    "    result = session.run(get_characters_query)\n",
    "    for record in result:\n",
    "        characters.add(record['name'])\n",
    "\n",
    "characters"
   ]
  },
  {
   "cell_type": "code",
   "execution_count": 69,
   "metadata": {},
   "outputs": [],
   "source": [
    "# import the time \n",
    "import time"
   ]
  },
  {
   "cell_type": "code",
   "execution_count": 70,
   "metadata": {},
   "outputs": [
    {
     "name": "stdout",
     "output_type": "stream",
     "text": [
      "0.4032414976362985\n"
     ]
    }
   ],
   "source": [
    "line_num = 0\n",
    "\n",
    "begin = time.time()\n",
    "with driver.session() as session:\n",
    "    with open(\"data/A_Midsummer_Nights_Dream.txt\") as f:\n",
    "        current_character = ''\n",
    "        for line in f:\n",
    "            # strip leading and trailing whitespace\n",
    "            text = line.strip()\n",
    "            # is line the character speaking?\n",
    "            if text in characters:\n",
    "                current_character = text\n",
    "            else:\n",
    "                line_num += 1\n",
    "                session.run(create_line_query, parameters={\n",
    "                    'line_text': text,\n",
    "                    'line_num': line_num,\n",
    "                    'current_character': current_character\n",
    "                })\n",
    "            # insert line into database\n",
    "            \n",
    "    end = time.time()\n",
    "    create_time = (end-begin)/line_num * 1000\n",
    "\n",
    "print(str(create_time))\n",
    "    "
   ]
  },
  {
   "cell_type": "markdown",
   "metadata": {},
   "source": [
    "## UPDATE\n",
    "\n",
    "> For each record in the database, search for character names, convert them to UPPERCASE, then UPDATE the record in the database"
   ]
  },
  {
   "cell_type": "code",
   "execution_count": 71,
   "metadata": {},
   "outputs": [],
   "source": [
    "# query to update \n",
    "update_query = '''\n",
    "WITH $character AS character\n",
    "WITH substring(character,0,1) + toLower(substring(character,1)) AS casedChar, character\n",
    "\n",
    "MATCH (l:Line) WHERE toLower(l.text) CONTAINS toLower(character)\n",
    "SET l.text = replace(l.text, casedChar, character)\n",
    "RETURN COUNT(l) AS num\n",
    "'''"
   ]
  },
  {
   "cell_type": "code",
   "execution_count": 72,
   "metadata": {},
   "outputs": [
    {
     "name": "stdout",
     "output_type": "stream",
     "text": [
      "0.36825304446013074\n"
     ]
    }
   ],
   "source": [
    "update_count = 0\n",
    "\n",
    "with driver.session() as session:\n",
    "    begin = time.time()\n",
    "    for c in characters:\n",
    "        # Update the lines mentioning this character\n",
    "        result = session.run(update_query, parameters = {'character': c})\n",
    "        # increment update_count\n",
    "        record = result.single()\n",
    "        update_count += record['num']\n",
    "    end = time.time()\n",
    "    update_time = (end-begin)/update_count * 1000\n",
    "    print(update_time)"
   ]
  },
  {
   "cell_type": "markdown",
   "metadata": {},
   "source": [
    "## DELETE\n",
    "\n",
    "> For each record in the database, the instructor will also need to DELETE any lines that start with “ENTER” , “EXIT” , “ACT” , or “SCENE”\n"
   ]
  },
  {
   "cell_type": "code",
   "execution_count": 73,
   "metadata": {},
   "outputs": [],
   "source": [
    "# query to delete stop words\n",
    "delete_query = '''\n",
    "WITH ['ENTER', 'EXIT', 'ACT', 'SCENE'] AS words\n",
    "MATCH (l:Line) WHERE any(x IN words WHERE toLower(l.text) STARTS WITH toLower(x))\n",
    "DETACH DELETE l\n",
    "RETURN COUNT(l) AS num\n",
    "'''"
   ]
  },
  {
   "cell_type": "code",
   "execution_count": 74,
   "metadata": {},
   "outputs": [
    {
     "name": "stdout",
     "output_type": "stream",
     "text": [
      "0.37057225297137003\n"
     ]
    }
   ],
   "source": [
    "with driver.session() as session:\n",
    "    begin = time.time()\n",
    "    result = session.run(delete_query)\n",
    "    record = result.single()\n",
    "    num_lines = record['num']\n",
    "    end = time.time()\n",
    "    delete_time = (end-begin) / num_lines * 1000\n",
    "    print(delete_time)"
   ]
  },
  {
   "cell_type": "markdown",
   "metadata": {},
   "source": [
    "## READ\n",
    "\n",
    "When all other tasks are complete, the next step will be to READ each line and print it out to console\n"
   ]
  },
  {
   "cell_type": "code",
   "execution_count": 75,
   "metadata": {},
   "outputs": [],
   "source": [
    "# query to read lines\n",
    "read_lines_query = '''\n",
    "MATCH (l:Line) RETURN l.text AS text, l.number AS linenum\n",
    "'''"
   ]
  },
  {
   "cell_type": "code",
   "execution_count": 79,
   "metadata": {
    "scrolled": false
   },
   "outputs": [
    {
     "name": "stdout",
     "output_type": "stream",
     "text": [
      "0.0006957822551264142\n"
     ]
    }
   ],
   "source": [
    "with driver.session() as session:\n",
    "    begin = time.time()\n",
    "    # read each line from the datbase\n",
    "    result = session.run(read_lines_query)\n",
    "    #for record in result:\n",
    "    # print each line\n",
    "        # print(\"%i: %s\" % (record['linenum'], record['text']))\n",
    "    end = time.time()\n",
    "    \n",
    "    # get number of lines in database\n",
    "    result = session.run(\"MATCH (l:Line) RETURN COUNT(l) AS num\")\n",
    "    numlines = result.single()['num']\n",
    "    \n",
    "    \n",
    "    \n",
    "    read_time = (end-begin)/numlines * 1000\n",
    "    print(str(read_time))"
   ]
  },
  {
   "cell_type": "code",
   "execution_count": 80,
   "metadata": {
    "scrolled": true
   },
   "outputs": [
    {
     "name": "stdout",
     "output_type": "stream",
     "text": [
      "CREATE: 0.40ms per line\n",
      "READ: 0.00ms per line\n",
      "UPDATE 0.37ms per line\n",
      "DELETE 0.37ms per line\n"
     ]
    }
   ],
   "source": [
    "print(\"CREATE: %.2fms per line\" % create_time)\n",
    "print(\"READ: %.2fms per line\" % read_time)\n",
    "print(\"UPDATE %.2fms per line\" % update_time)\n",
    "print(\"DELETE %.2fms per line\" % delete_time)"
   ]
  }
 ],
 "metadata": {
  "kernelspec": {
   "display_name": "Python 3",
   "language": "python",
   "name": "python3"
  },
  "language_info": {
   "codemirror_mode": {
    "name": "ipython",
    "version": 3
   },
   "file_extension": ".py",
   "mimetype": "text/x-python",
   "name": "python",
   "nbconvert_exporter": "python",
   "pygments_lexer": "ipython3",
   "version": "3.6.5"
  }
 },
 "nbformat": 4,
 "nbformat_minor": 2
}
